{
 "cells": [
  {
   "cell_type": "code",
   "execution_count": 1,
   "metadata": {},
   "outputs": [],
   "source": [
    "import numpy as np\n",
    "import torch\n",
    "import matplotlib.pyplot as plt\n",
    "import vb4kde as kde"
   ]
  },
  {
   "cell_type": "markdown",
   "metadata": {},
   "source": [
    "Load some data..."
   ]
  },
  {
   "cell_type": "code",
   "execution_count": 2,
   "metadata": {},
   "outputs": [],
   "source": [
    "from torchvision.datasets import MNIST\n",
    "testset = MNIST('mnist', train=False, download=True)\n",
    "\n",
    "mnist_pca = torch.load('mnist_pca.pt')\n",
    "X_reduced = mnist_pca['X_reduced'].float()\n",
    "X_test = X_reduced[60000:]"
   ]
  },
  {
   "cell_type": "markdown",
   "metadata": {},
   "source": [
    "Let's take a look at the model for the digit 8"
   ]
  },
  {
   "cell_type": "code",
   "execution_count": 3,
   "metadata": {},
   "outputs": [],
   "source": [
    "target = 8"
   ]
  },
  {
   "cell_type": "code",
   "execution_count": 4,
   "metadata": {},
   "outputs": [
    {
     "data": {
      "text/plain": [
       "tensor([[ 43.4331,   1.2231,   0.6333,  ...,  -0.6988,  -0.8338,  -0.7400],\n",
       "        [  1.2231,  66.4666,  -3.7694,  ...,   5.6959, -15.6400,  -0.1515],\n",
       "        [  0.6333,  -3.7693,  45.5689,  ...,  -0.7915,   3.0311,   6.8274],\n",
       "        ...,\n",
       "        [ -0.6988,   5.6959,  -0.7914,  ...,  16.3363,  -9.9079,  -5.4348],\n",
       "        [ -0.8338, -15.6399,   3.0311,  ...,  -9.9080,  56.0486,  26.2559],\n",
       "        [ -0.7400,  -0.1515,   6.8274,  ...,  -5.4348,  26.2559,  34.2009]])"
      ]
     },
     "execution_count": 4,
     "metadata": {},
     "output_type": "execute_result"
    }
   ],
   "source": [
    "model = kde.load_kde('models/kde_vb_' + str(target) +'.pt')\n",
    "model.nu * model.W"
   ]
  },
  {
   "cell_type": "code",
   "execution_count": 5,
   "metadata": {},
   "outputs": [
    {
     "data": {
      "text/plain": [
       "tensor(974)"
      ]
     },
     "execution_count": 5,
     "metadata": {},
     "output_type": "execute_result"
    }
   ],
   "source": [
    "(testset.targets == target).sum()"
   ]
  },
  {
   "cell_type": "code",
   "execution_count": 6,
   "metadata": {},
   "outputs": [],
   "source": [
    "def plot_digits(data, num_rows):\n",
    "    plt.figure(figsize=(2 * len(data) / num_rows, 2 * num_rows))\n",
    "    plt.tight_layout()\n",
    "    \n",
    "    for i, d in enumerate(data):\n",
    "        \n",
    "        plt.subplot(num_rows, len(data) / num_rows, i+1)\n",
    "        plt.imshow(d, cmap='gray', interpolation='none')\n",
    "        plt.xticks([])\n",
    "        plt.yticks([])\n",
    "    \n",
    "    plt.show()"
   ]
  },
  {
   "cell_type": "markdown",
   "metadata": {},
   "source": [
    "Let's compare the top 10 highest density observations in the test set with the 10 lowest density ones"
   ]
  },
  {
   "cell_type": "code",
   "execution_count": 7,
   "metadata": {},
   "outputs": [],
   "source": [
    "X_reduced_target = X_reduced[60000:][testset.targets == target]\n",
    "X_target = testset.data[testset.targets == target]\n",
    "\n",
    "log_dens = model.log_density(X_reduced_target)\n",
    "sorted_dens, sorted_idx = torch.sort(log_dens, descending=False)"
   ]
  },
  {
   "cell_type": "code",
   "execution_count": 8,
   "metadata": {},
   "outputs": [
    {
     "data": {
      "image/png": "[encoded data removed]",
      "text/plain": [
       "<Figure size 1440x288 with 20 Axes>"
      ]
     },
     "metadata": {},
     "output_type": "display_data"
    }
   ],
   "source": [
    "plot_digits(torch.cat((X_target[sorted_idx[[0, 1, 2, 3, 4, 5, 6, 7, 8, 9]]], \n",
    "                       X_target[sorted_idx[[-1, -2, -3, -4, -5, -6, -7, -8, -9, -10]]])), 2)"
   ]
  },
  {
   "cell_type": "markdown",
   "metadata": {},
   "source": [
    "We can build a classifier by predicting an observation as belonging to the KDE it has the highest density under"
   ]
  },
  {
   "cell_type": "code",
   "execution_count": 9,
   "metadata": {},
   "outputs": [],
   "source": [
    "class KDEClassifier:\n",
    "    def __init__(self, models):\n",
    "        self.models = models\n",
    "        \n",
    "    def predict(self, X):\n",
    "        \n",
    "        pred = torch.stack(tuple(model.log_density(X) for model in self.models), dim=0)\n",
    "        return pred.argmax(dim=0)"
   ]
  },
  {
   "cell_type": "code",
   "execution_count": 10,
   "metadata": {},
   "outputs": [],
   "source": [
    "models = [kde.load_kde('models/kde_vb_' + str(i) +'.pt') for i in range(10)]\n",
    "classifier = KDEClassifier(models)"
   ]
  },
  {
   "cell_type": "code",
   "execution_count": null,
   "metadata": {},
   "outputs": [],
   "source": [
    "pred = classifier.predict(X_test)"
   ]
  },
  {
   "cell_type": "code",
   "execution_count": null,
   "metadata": {},
   "outputs": [],
   "source": [
    "(pred == testset.targets).sum().item() / len(testset)"
   ]
  },
  {
   "cell_type": "markdown",
   "metadata": {},
   "source": [
    "This simple model gives a 90% accuracy on MNIST :O"
   ]
  },
  {
   "cell_type": "code",
   "execution_count": 11,
   "metadata": {},
   "outputs": [],
   "source": [
    "from sklearn.neighbors import KernelDensity"
   ]
  },
  {
   "cell_type": "code",
   "execution_count": 12,
   "metadata": {},
   "outputs": [],
   "source": [
    "bandwidths = [0.33, 0.2, 0.73, 0.43, 0.36, 0.41, 0.47, 0.46, 0.36, 0.37]\n",
    "sklearn_models = [KernelDensity(kernel='gaussian', bandwidth=bw) for bw in bandwidths]\n",
    "\n",
    "for m, sk_m in zip(models, sklearn_models):\n",
    "    sk_m.fit(m.X.numpy())"
   ]
  },
  {
   "cell_type": "code",
   "execution_count": 18,
   "metadata": {},
   "outputs": [],
   "source": [
    "class KDEClassifier:\n",
    "    def __init__(self, models):\n",
    "        self.models = models\n",
    "        \n",
    "    def predict(self, X):\n",
    "        \n",
    "        pred = np.stack(tuple(model.score_samples(X) for model in self.models), axis=0)\n",
    "        return pred.argmax(axis=0)"
   ]
  },
  {
   "cell_type": "code",
   "execution_count": 19,
   "metadata": {},
   "outputs": [],
   "source": [
    "classifier = KDEClassifier(sklearn_models)"
   ]
  },
  {
   "cell_type": "code",
   "execution_count": 20,
   "metadata": {},
   "outputs": [],
   "source": [
    "pred = classifier.predict(X_test.numpy())"
   ]
  },
  {
   "cell_type": "code",
   "execution_count": 21,
   "metadata": {},
   "outputs": [
    {
     "data": {
      "text/plain": [
       "0.2968"
      ]
     },
     "execution_count": 21,
     "metadata": {},
     "output_type": "execute_result"
    }
   ],
   "source": [
    "(pred == testset.targets.numpy()).sum() / len(testset)"
   ]
  },
  {
   "cell_type": "code",
   "execution_count": null,
   "metadata": {},
   "outputs": [],
   "source": []
  }
 ],
 "metadata": {
  "kernelspec": {
   "display_name": "Python 3",
   "language": "python",
   "name": "python3"
  },
  "language_info": {
   "codemirror_mode": {
    "name": "ipython",
    "version": 3
   },
   "file_extension": ".py",
   "mimetype": "text/x-python",
   "name": "python",
   "nbconvert_exporter": "python",
   "pygments_lexer": "ipython3",
   "version": "3.7.3"
  }
 },
 "nbformat": 4,
 "nbformat_minor": 2
}
